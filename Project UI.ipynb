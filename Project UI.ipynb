{
 "cells": [
  {
   "cell_type": "code",
   "execution_count": 16,
   "metadata": {},
   "outputs": [],
   "source": [
    "from tkinter import *\n",
    "from keras.models import load_model"
   ]
  },
  {
   "cell_type": "code",
   "execution_count": 17,
   "metadata": {},
   "outputs": [],
   "source": [
    "import pickle\n",
    "model = load_model('motor.h5')"
   ]
  },
  {
   "cell_type": "code",
   "execution_count": 18,
   "metadata": {},
   "outputs": [
    {
     "data": {
      "text/plain": [
       "''"
      ]
     },
     "execution_count": 18,
     "metadata": {},
     "output_type": "execute_result"
    }
   ],
   "source": [
    "top=Tk()\n",
    "top.geometry(\"550x500+300+150\")\n",
    "top.resizable(width=True, height=True)"
   ]
  },
  {
   "cell_type": "code",
   "execution_count": 19,
   "metadata": {},
   "outputs": [],
   "source": [
    "top.title(\"Project\")\n",
    "top.configure(bg=\"#FAB71D\")\n",
    "Label(top,bg=\"#FAB71D\").pack()\n",
    "L1 = Label(top,bg=\"#FAB71D\", text=\"Flow Rate\")\n",
    "L1.pack()\n",
    "E1 = Entry(top, bd =5)\n",
    "E1.pack()\n",
    "L2 = Label(top, bg=\"#FAB71D\", text=\"Speed\")\n",
    "L2.pack()\n",
    "E2 = Entry(top, bd =5)\n",
    "E2.pack()\n",
    "L3 = Label(top,bg=\"#FAB71D\", text=\"Capacity\")\n",
    "L3.pack()\n",
    "E3 = Entry(top, bd =5)\n",
    "E3.pack()\n",
    "L4 = Label(top,bg=\"#FAB71D\", text=\"Voltage\")\n",
    "L4.pack()\n",
    "E4 = Entry(top, bd =5)\n",
    "E4.pack()\n",
    "L5 = Label(top,bg=\"#FAB71D\", text=\"Current\")\n",
    "L5.pack()\n",
    "E5 = Entry(top, bd =5)\n",
    "E5.pack()\n",
    "L6 = Label(top,bg=\"#FAB71D\", text=\"Temperature\")\n",
    "L6.pack()\n",
    "E6 = Entry(top, bd =5)\n",
    "E6.pack()\n",
    "L8 = Label(top,bg=\"#FAB71D\", text=\"Capacity in watts\")\n",
    "L8.pack()\n",
    "E8 = Entry(top, bd =5)\n",
    "E8.pack()\n",
    "#E7 = Entry(top, bd =5)\n",
    "#E7.pack()"
   ]
  },
  {
   "cell_type": "code",
   "execution_count": 20,
   "metadata": {},
   "outputs": [],
   "source": [
    "import numpy as np\n",
    "def predict1():\n",
    "    print(\"Prediction on progress..\")\n",
    "    e1=E1.get()\n",
    "    print(\"Flow Rate\",e1)\n",
    "    e2=E2.get()\n",
    "    print(\"Speed\",e2)\n",
    "    e3=E3.get()\n",
    "    print(\"Capacity\",e3)\n",
    "    e4=E4.get()\n",
    "    print(\"Voltage\",e4)\n",
    "    e5=E5.get()\n",
    "    print(\"Current\",e5)\n",
    "    e6=E6.get()\n",
    "    print(\"Temeparture\",e6)\n",
    "    e8=E8.get()\n",
    "    print(\"Capacity in watts\",e8)\n",
    "    a=[e1,e2,e3,e4,e5,e6,e8]\n",
    "    print(a)\n",
    "    y_pred=model.predict(np.array([a]))\n",
    "    if (y_pred<=0):\n",
    "        text=\"Motor in BAD Condition\"\n",
    "    else:\n",
    "        text=\"Motor in GOOD Condition\"\n",
    "    L7 = Label(top, text=\"Performance : \"+text)\n",
    "    L7.pack()"
   ]
  },
  {
   "cell_type": "code",
   "execution_count": 21,
   "metadata": {},
   "outputs": [],
   "source": [
    "B = Button(top, text =\"Predict\", command = predict1)\n",
    "B.pack(pady=10)\n",
    "top.mainloop()"
   ]
  },
  {
   "cell_type": "code",
   "execution_count": null,
   "metadata": {},
   "outputs": [],
   "source": []
  },
  {
   "cell_type": "code",
   "execution_count": null,
   "metadata": {},
   "outputs": [],
   "source": []
  }
 ],
 "metadata": {
  "kernelspec": {
   "display_name": "Python 3",
   "language": "python",
   "name": "python3"
  },
  "language_info": {
   "codemirror_mode": {
    "name": "ipython",
    "version": 3
   },
   "file_extension": ".py",
   "mimetype": "text/x-python",
   "name": "python",
   "nbconvert_exporter": "python",
   "pygments_lexer": "ipython3",
   "version": "3.7.3"
  }
 },
 "nbformat": 4,
 "nbformat_minor": 2
}
